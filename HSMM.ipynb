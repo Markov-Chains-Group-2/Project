{
  "nbformat": 4,
  "nbformat_minor": 0,
  "metadata": {
    "colab": {
      "provenance": []
    },
    "kernelspec": {
      "name": "python3",
      "display_name": "Python 3"
    },
    "language_info": {
      "name": "python"
    }
  },
  "cells": [
    {
      "cell_type": "markdown",
      "source": [
        "# Ajuste de modelo HSMM para datos glucemicos y predicción de hiploglucemia"
      ],
      "metadata": {
        "id": "NqJsky9wYt5Z"
      }
    },
    {
      "cell_type": "markdown",
      "source": [
        "## Uso del algoritmo Expectation-Maximization para estimar parametros de un HSMM\n",
        "\n",
        "En este notebook se hara uso sel paquete ``mhsmm`` para usar el algoritmo de Expectation-Maximization para ajustar los parámetros de un modelo de semi-Markov para datos de glucosa provenientes de CGM con el objetivo de predecir eventos de hipoglucemia.\n",
        "\n",
        "Para predecir la secuencia de estados más probable que ha pasado se hara uso de la función ``predict`` del mismo paquete que implementa el algoritmo de Viterbi.\n",
        "\n",
        "Este notebook hace uso de ``RCall`` dado que el paquete ``mhsmm`` es del lenguaje ``R`` y usar ``RCall`` en vez del kernel de ``R`` permite que el notebook pueda ser compartido via ``Colab``."
      ],
      "metadata": {
        "id": "PoU1Todu05Vr"
      }
    },
    {
      "cell_type": "markdown",
      "source": [
        "### Instalación de librerías necesarias (Python)"
      ],
      "metadata": {
        "id": "e2njkj7H2Ife"
      }
    },
    {
      "cell_type": "code",
      "source": [
        "!pip install rpy2\n",
        "import rpy2.robjects as robjects\n",
        "robjects.r('install.packages(\"RCall\")')\n",
        "!pip install ipython\n",
        "%load_ext rpy2.ipython"
      ],
      "metadata": {
        "id": "C_4U_O71SG3c",
        "colab": {
          "base_uri": "https://localhost:8080/"
        },
        "outputId": "7f5e7540-34a9-4741-9fea-21eed9099905"
      },
      "execution_count": 1,
      "outputs": [
        {
          "output_type": "stream",
          "name": "stdout",
          "text": [
            "Requirement already satisfied: rpy2 in /usr/local/lib/python3.10/dist-packages (3.4.2)\n",
            "Requirement already satisfied: cffi>=1.10.0 in /usr/local/lib/python3.10/dist-packages (from rpy2) (1.17.1)\n",
            "Requirement already satisfied: jinja2 in /usr/local/lib/python3.10/dist-packages (from rpy2) (3.1.4)\n",
            "Requirement already satisfied: pytz in /usr/local/lib/python3.10/dist-packages (from rpy2) (2024.2)\n",
            "Requirement already satisfied: tzlocal in /usr/local/lib/python3.10/dist-packages (from rpy2) (5.2)\n",
            "Requirement already satisfied: pycparser in /usr/local/lib/python3.10/dist-packages (from cffi>=1.10.0->rpy2) (2.22)\n",
            "Requirement already satisfied: MarkupSafe>=2.0 in /usr/local/lib/python3.10/dist-packages (from jinja2->rpy2) (2.1.5)\n"
          ]
        },
        {
          "output_type": "stream",
          "name": "stderr",
          "text": [
            "WARNING:rpy2.rinterface_lib.callbacks:R[write to console]: Installing package into ‘/usr/local/lib/R/site-library’\n",
            "(as ‘lib’ is unspecified)\n",
            "\n"
          ]
        },
        {
          "output_type": "stream",
          "name": "stdout",
          "text": [
            "Requirement already satisfied: ipython in /usr/local/lib/python3.10/dist-packages (7.34.0)\n",
            "Requirement already satisfied: setuptools>=18.5 in /usr/local/lib/python3.10/dist-packages (from ipython) (71.0.4)\n",
            "Requirement already satisfied: jedi>=0.16 in /usr/local/lib/python3.10/dist-packages (from ipython) (0.19.1)\n",
            "Requirement already satisfied: decorator in /usr/local/lib/python3.10/dist-packages (from ipython) (4.4.2)\n",
            "Requirement already satisfied: pickleshare in /usr/local/lib/python3.10/dist-packages (from ipython) (0.7.5)\n",
            "Requirement already satisfied: traitlets>=4.2 in /usr/local/lib/python3.10/dist-packages (from ipython) (5.7.1)\n",
            "Requirement already satisfied: prompt-toolkit!=3.0.0,!=3.0.1,<3.1.0,>=2.0.0 in /usr/local/lib/python3.10/dist-packages (from ipython) (3.0.47)\n",
            "Requirement already satisfied: pygments in /usr/local/lib/python3.10/dist-packages (from ipython) (2.18.0)\n",
            "Requirement already satisfied: backcall in /usr/local/lib/python3.10/dist-packages (from ipython) (0.2.0)\n",
            "Requirement already satisfied: matplotlib-inline in /usr/local/lib/python3.10/dist-packages (from ipython) (0.1.7)\n",
            "Requirement already satisfied: pexpect>4.3 in /usr/local/lib/python3.10/dist-packages (from ipython) (4.9.0)\n",
            "Requirement already satisfied: parso<0.9.0,>=0.8.3 in /usr/local/lib/python3.10/dist-packages (from jedi>=0.16->ipython) (0.8.4)\n",
            "Requirement already satisfied: ptyprocess>=0.5 in /usr/local/lib/python3.10/dist-packages (from pexpect>4.3->ipython) (0.7.0)\n",
            "Requirement already satisfied: wcwidth in /usr/local/lib/python3.10/dist-packages (from prompt-toolkit!=3.0.0,!=3.0.1,<3.1.0,>=2.0.0->ipython) (0.2.13)\n"
          ]
        }
      ]
    },
    {
      "cell_type": "markdown",
      "source": [
        "### Instalación de librerías necesarias (R)"
      ],
      "metadata": {
        "id": "p5kdmlYM2P03"
      }
    },
    {
      "cell_type": "code",
      "source": [
        "%%R\n",
        "install.packages('RCall')\n",
        "install.packages(\"mhsmm\")\n",
        "library(mhsmm)"
      ],
      "metadata": {
        "id": "BLnczCV_Sp00",
        "colab": {
          "base_uri": "https://localhost:8080/"
        },
        "outputId": "243450c1-401c-4f71-b7f5-3bd4e18f8f50"
      },
      "execution_count": 2,
      "outputs": [
        {
          "output_type": "stream",
          "name": "stderr",
          "text": [
            "WARNING:rpy2.rinterface_lib.callbacks:R[write to console]: Installing package into ‘/usr/local/lib/R/site-library’\n",
            "(as ‘lib’ is unspecified)\n",
            "\n",
            "WARNING:rpy2.rinterface_lib.callbacks:R[write to console]: Installing package into ‘/usr/local/lib/R/site-library’\n",
            "(as ‘lib’ is unspecified)\n",
            "\n",
            "WARNING:rpy2.rinterface_lib.callbacks:R[write to console]: trying URL 'https://cran.rstudio.com/src/contrib/mhsmm_0.4.21.tar.gz'\n",
            "\n",
            "WARNING:rpy2.rinterface_lib.callbacks:R[write to console]: Content type 'application/x-gzip'\n",
            "WARNING:rpy2.rinterface_lib.callbacks:R[write to console]:  length 400694 bytes (391 KB)\n",
            "\n",
            "WARNING:rpy2.rinterface_lib.callbacks:R[write to console]: =\n",
            "WARNING:rpy2.rinterface_lib.callbacks:R[write to console]: =\n",
            "WARNING:rpy2.rinterface_lib.callbacks:R[write to console]: =\n",
            "WARNING:rpy2.rinterface_lib.callbacks:R[write to console]: =\n",
            "WARNING:rpy2.rinterface_lib.callbacks:R[write to console]: =\n",
            "WARNING:rpy2.rinterface_lib.callbacks:R[write to console]: =\n",
            "WARNING:rpy2.rinterface_lib.callbacks:R[write to console]: =\n",
            "WARNING:rpy2.rinterface_lib.callbacks:R[write to console]: =\n",
            "WARNING:rpy2.rinterface_lib.callbacks:R[write to console]: =\n",
            "WARNING:rpy2.rinterface_lib.callbacks:R[write to console]: =\n",
            "WARNING:rpy2.rinterface_lib.callbacks:R[write to console]: =\n",
            "WARNING:rpy2.rinterface_lib.callbacks:R[write to console]: =\n",
            "WARNING:rpy2.rinterface_lib.callbacks:R[write to console]: =\n",
            "WARNING:rpy2.rinterface_lib.callbacks:R[write to console]: =\n",
            "WARNING:rpy2.rinterface_lib.callbacks:R[write to console]: =\n",
            "WARNING:rpy2.rinterface_lib.callbacks:R[write to console]: =\n",
            "WARNING:rpy2.rinterface_lib.callbacks:R[write to console]: =\n",
            "WARNING:rpy2.rinterface_lib.callbacks:R[write to console]: =\n",
            "WARNING:rpy2.rinterface_lib.callbacks:R[write to console]: =\n",
            "WARNING:rpy2.rinterface_lib.callbacks:R[write to console]: =\n",
            "WARNING:rpy2.rinterface_lib.callbacks:R[write to console]: =\n",
            "WARNING:rpy2.rinterface_lib.callbacks:R[write to console]: =\n",
            "WARNING:rpy2.rinterface_lib.callbacks:R[write to console]: =\n",
            "WARNING:rpy2.rinterface_lib.callbacks:R[write to console]: =\n",
            "WARNING:rpy2.rinterface_lib.callbacks:R[write to console]: =\n",
            "WARNING:rpy2.rinterface_lib.callbacks:R[write to console]: =\n",
            "WARNING:rpy2.rinterface_lib.callbacks:R[write to console]: =\n",
            "WARNING:rpy2.rinterface_lib.callbacks:R[write to console]: =\n",
            "WARNING:rpy2.rinterface_lib.callbacks:R[write to console]: =\n",
            "WARNING:rpy2.rinterface_lib.callbacks:R[write to console]: =\n",
            "WARNING:rpy2.rinterface_lib.callbacks:R[write to console]: =\n",
            "WARNING:rpy2.rinterface_lib.callbacks:R[write to console]: =\n",
            "WARNING:rpy2.rinterface_lib.callbacks:R[write to console]: =\n",
            "WARNING:rpy2.rinterface_lib.callbacks:R[write to console]: =\n",
            "WARNING:rpy2.rinterface_lib.callbacks:R[write to console]: =\n",
            "WARNING:rpy2.rinterface_lib.callbacks:R[write to console]: =\n",
            "WARNING:rpy2.rinterface_lib.callbacks:R[write to console]: =\n",
            "WARNING:rpy2.rinterface_lib.callbacks:R[write to console]: =\n",
            "WARNING:rpy2.rinterface_lib.callbacks:R[write to console]: =\n",
            "WARNING:rpy2.rinterface_lib.callbacks:R[write to console]: =\n",
            "WARNING:rpy2.rinterface_lib.callbacks:R[write to console]: =\n",
            "WARNING:rpy2.rinterface_lib.callbacks:R[write to console]: =\n",
            "WARNING:rpy2.rinterface_lib.callbacks:R[write to console]: =\n",
            "WARNING:rpy2.rinterface_lib.callbacks:R[write to console]: =\n",
            "WARNING:rpy2.rinterface_lib.callbacks:R[write to console]: =\n",
            "WARNING:rpy2.rinterface_lib.callbacks:R[write to console]: =\n",
            "WARNING:rpy2.rinterface_lib.callbacks:R[write to console]: =\n",
            "WARNING:rpy2.rinterface_lib.callbacks:R[write to console]: =\n",
            "WARNING:rpy2.rinterface_lib.callbacks:R[write to console]: =\n",
            "WARNING:rpy2.rinterface_lib.callbacks:R[write to console]: =\n",
            "WARNING:rpy2.rinterface_lib.callbacks:R[write to console]: \n",
            "\n",
            "WARNING:rpy2.rinterface_lib.callbacks:R[write to console]: downloaded 391 KB\n",
            "\n",
            "\n",
            "WARNING:rpy2.rinterface_lib.callbacks:R[write to console]: \n",
            "\n",
            "WARNING:rpy2.rinterface_lib.callbacks:R[write to console]: \n",
            "WARNING:rpy2.rinterface_lib.callbacks:R[write to console]: The downloaded source packages are in\n",
            "\t‘/tmp/RtmplAi3sq/downloaded_packages’\n",
            "WARNING:rpy2.rinterface_lib.callbacks:R[write to console]: \n",
            "WARNING:rpy2.rinterface_lib.callbacks:R[write to console]: \n",
            "\n",
            "WARNING:rpy2.rinterface_lib.callbacks:R[write to console]: Loading required package: mvtnorm\n",
            "\n"
          ]
        }
      ]
    },
    {
      "cell_type": "markdown",
      "source": [
        "### Predicción con datos simulados\n",
        "\n",
        "Usados los datos generados en el notebook ``Data_Preprocessing.ipynb``, se va a probar el uso del algoritmo Expectation-Maximization y el algoritmo de Viterbi. Sin embargo los datos simulados no son idoneos para hacer la predicción pues tienen comportamientos ficticios y muy por encima del valor de hipoglucemia."
      ],
      "metadata": {
        "id": "4X_oKdmw2U4t"
      }
    },
    {
      "cell_type": "markdown",
      "source": [
        "#### Importación de los datos simulados"
      ],
      "metadata": {
        "id": "WMi-5yOsBO9s"
      }
    },
    {
      "cell_type": "code",
      "source": [
        "%%R\n",
        "data<-read.csv(\"simulated_data_1_patient.csv\")"
      ],
      "metadata": {
        "id": "Nx6-S1cNW2sJ"
      },
      "execution_count": 3,
      "outputs": []
    },
    {
      "cell_type": "code",
      "source": [
        "%%R\n",
        "head(data)"
      ],
      "metadata": {
        "colab": {
          "base_uri": "https://localhost:8080/"
        },
        "id": "26VhipuAYBbq",
        "outputId": "88ce26ae-98b6-4256-9918-b2c888c06ff2"
      },
      "execution_count": 4,
      "outputs": [
        {
          "output_type": "stream",
          "name": "stdout",
          "text": [
            "  id                time       gl gl_noise state\n",
            "1  1 2020-12-12 05:07:04 77.02375 76.71813     1\n",
            "2  1 2020-12-12 05:12:04 64.44068 63.17814     1\n",
            "3  1 2020-12-12 05:17:04 94.42932 95.20803     1\n",
            "4  1 2020-12-12 05:22:04 83.92058 83.59153     1\n",
            "5  1 2020-12-12 05:27:04 77.92287 78.32017     1\n",
            "6  1 2020-12-12 05:32:04 69.38765 67.53526     1\n"
          ]
        }
      ]
    },
    {
      "cell_type": "markdown",
      "source": [
        "El paquete ``mhsmm`` permite al usuario poner su propia función de densidad de emisión y ajustar el proceso en el paso de Maximización. Para eso se usaron las siguientes función que fueron usadas en el trabajo de referencia."
      ],
      "metadata": {
        "id": "A4yATLogBvgt"
      }
    },
    {
      "cell_type": "code",
      "source": [
        "%%R\n",
        "####################################################\n",
        "## Función para re-estimar los parámetros de la    ##\n",
        "## Distribución Gamma de la Distribución de Emisión ##\n",
        "####################################################\n",
        "\n",
        "mstep.gamma <- function(x, wt = NULL){\n",
        "  # Aplica la función weighted.params a cada columna de wt para obtener los parámetros\n",
        "  tmp <- apply(wt, 2, function(w) weighted.params(x, w))\n",
        "\n",
        "  # Devuelve una lista con los parámetros 'shape' y 'scale' para la distribución Gamma\n",
        "  return(list(shape = tmp[1, ], scale = tmp[2, ]))\n",
        "}\n",
        "\n",
        "# Función auxiliar para calcular los parámetros 'shape' y 'scale' ponderados\n",
        "weighted.params <- function(x, wt){\n",
        "  # Calcula la media ponderada de 'x' usando 'wt', ignorando valores NA\n",
        "  tmp1 <- weighted.mean(x, wt, na.rm = TRUE)\n",
        "\n",
        "  sum <- 0\n",
        "  # Bucle que recorre los valores de 'x' y 'wt'\n",
        "  for(i in 1:length(x)){\n",
        "    # Acumula la suma ponderada de las diferencias al cuadrado entre los valores y la media\n",
        "    sum <- sum + wt[i] * (ifelse(is.na(x[i]), tmp1, x[i]) - tmp1) ^ 2\n",
        "  }\n",
        "\n",
        "  # Filtra los pesos no nulos (cuando no hay NA en 'x')\n",
        "  wt_notNulls <- wt[!(1:length(wt)) %in% which(is.na(x))]\n",
        "\n",
        "  # Calcula la varianza ponderada\n",
        "  tmp2 <- sum / sum(wt_notNulls)\n",
        "\n",
        "  # Calcula el parámetro 'scale' de la distribución Gamma\n",
        "  scale <- tmp2 / tmp1\n",
        "\n",
        "  # Calcula el parámetro 'shape' de la distribución Gamma\n",
        "  shape <- tmp1 / scale\n",
        "\n",
        "  # Devuelve los parámetros 'shape' y 'scale'\n",
        "  return(c(shape, scale))\n",
        "}\n",
        "\n",
        "\n",
        "###############################################\n",
        "## Función para generar 1 valor aleatorio de  ##\n",
        "## una Distribución Gamma para el Estado j    ##\n",
        "###############################################\n",
        "\n",
        "rgamma.hsmm <- function(j, model){\n",
        "  # Genera un valor aleatorio de una distribución Gamma para el estado 'j'\n",
        "  rgamma(n = 1, shape = model$parms.emission$shape[j], scale = model$parms.emission$scale[j])\n",
        "}\n",
        "\n",
        "\n",
        "######################################################\n",
        "## Función para generar los valores de densidad de  ##\n",
        "## una Distribución Gamma para un vector de cuantiles ##\n",
        "## en el Estado j                                    ##\n",
        "######################################################\n",
        "\n",
        "dgamma.hsmm <- function(x, j, model){\n",
        "  # Calcula los valores de densidad de la distribución Gamma para el estado 'j'\n",
        "  ret <- dgamma(x = x, shape = model$parms.emission$shape[j], scale = model$parms.emission$scale[j])\n",
        "\n",
        "  # Reemplaza los valores NA con 1 (similar a lo que hace el paquete mhsmm)\n",
        "  ret[is.na(ret)] <- 1\n",
        "\n",
        "  # Devuelve los valores de densidad\n",
        "  ret\n",
        "}\n"
      ],
      "metadata": {
        "id": "kjVOmldZY8P3"
      },
      "execution_count": 5,
      "outputs": []
    },
    {
      "cell_type": "markdown",
      "source": [
        "### Creación del modelo HSMM\n",
        "\n",
        "A continuación se hace un ajuste del modelo a los datos simulados, se usan como parametros iniciales aquellos que se obtuvieron en el trabajo de referencia."
      ],
      "metadata": {
        "id": "ADNbvhNjCLFJ"
      }
    },
    {
      "cell_type": "code",
      "source": [
        "%%R\n",
        "J <- 5\n",
        "\n",
        "p.init <- c(0.15, 0.225, 0.25, 0.225, 0.15)\n",
        "\n",
        "trans_matrix <- matrix(c(\n",
        "  0, 1, 0, 0, 0,\n",
        "  0.467, 0, 0.533, 0, 0,\n",
        "  0, 0.546, 0, 0.454, 0,\n",
        "  0, 0, 0.613, 0, 0.387,\n",
        "  0, 0, 0, 1, 0\n",
        "), nrow = 5, byrow = TRUE)\n",
        "\n",
        "\n",
        "dist_sojourn <- matrix(c(0.7579934, 33.82615,\n",
        "                        0.9932942, 11.95013,\n",
        "                        1.1291341, 10.97301,\n",
        "                        1.2104759, 12.60661,\n",
        "                        1.1880755, 32.62419 ), nrow = 5, ncol = 2, byrow = TRUE)\n",
        "\n",
        "dist_emission <- matrix(c(42.15187, 2.039293,\n",
        "                        110.10547, 1.107393,\n",
        "                        131.68450, 1.239174,\n",
        "                        151.21247, 1.419063,\n",
        "                        51.91903, 5.666516 ),nrow = 5, ncol = 2, byrow = TRUE)\n",
        "\n",
        "emission_dist <- list(shape = dist_emission[, 1], scale = dist_emission[, 2])\n",
        "\n",
        "sojourn_dist <- list(shape = dist_sojourn[, 1], scale = dist_sojourn[, 2], type = \"gamma\")\n",
        "\n",
        "\n",
        "model <- hsmmspec(init = p.init, trans = trans_matrix, parms.emission = emission_dist, sojourn = sojourn_dist, dens.emission = dgamma.hsmm, rand.emission = rgamma.hsmm, mstep = mstep.gamma)\n"
      ],
      "metadata": {
        "id": "C2SVXmcTYX4b"
      },
      "execution_count": 6,
      "outputs": []
    },
    {
      "cell_type": "markdown",
      "source": [
        "#### Selección de datos observados\n",
        "\n",
        "Se tomaron 2016 registros como datos observados, que son lo equivalente a 7 días."
      ],
      "metadata": {
        "id": "G5Qs7lrZCdSR"
      }
    },
    {
      "cell_type": "code",
      "source": [
        "%%R\n",
        "observed_CGM_list<- data[1:2016,]$gl\n",
        "states_observed<- data[1:2016,]$state\n",
        "length(observed_CGM_list)"
      ],
      "metadata": {
        "colab": {
          "base_uri": "https://localhost:8080/"
        },
        "id": "fcBEqYBiZO2M",
        "outputId": "ec9844cd-14d0-48a8-d6cb-26576f643119"
      },
      "execution_count": 7,
      "outputs": [
        {
          "output_type": "stream",
          "name": "stdout",
          "text": [
            "[1] 2016\n"
          ]
        }
      ]
    },
    {
      "cell_type": "markdown",
      "source": [
        "### Entrenamiento del modelo con el algoritmo EM\n",
        "\n",
        "A continuación se ajustan los parametros del modelo a los datos simulados. Se puede ver que hay una muy rápida convergencia del algoritmo EM, lo cual sobresale mucho con la implementación del ajuste de parametros realizada a base de MCMC."
      ],
      "metadata": {
        "id": "9N5u-z8-C-29"
      }
    },
    {
      "cell_type": "code",
      "source": [
        "%%R\n",
        "M <- 144\n",
        "train <- list(x = observed_CGM_list, N = 2016)\n",
        "h.activity <- hsmmfit(train, model, mstep = mstep.gamma, maxit = 10000000, M = M, lock.transition = FALSE, lock.d = FALSE, graphical = FALSE)"
      ],
      "metadata": {
        "id": "D7pxUa8mZ3P_"
      },
      "execution_count": 8,
      "outputs": []
    },
    {
      "cell_type": "markdown",
      "source": [
        "Ahora miremos los datos en ese lapso de tiempo"
      ],
      "metadata": {
        "id": "kN7a9NBEHm4j"
      }
    },
    {
      "cell_type": "code",
      "source": [
        "%%R\n",
        "head(states_observed)"
      ],
      "metadata": {
        "colab": {
          "base_uri": "https://localhost:8080/"
        },
        "id": "X2ULg5sFIWo6",
        "outputId": "ac3353d1-42ef-4ae0-b6fc-1bc319168bb1"
      },
      "execution_count": 9,
      "outputs": [
        {
          "output_type": "stream",
          "name": "stdout",
          "text": [
            "[1] 1 1 1 1 1 1\n"
          ]
        }
      ]
    },
    {
      "cell_type": "code",
      "source": [
        "%%R\n",
        "plot(observed_CGM_list, type = \"l\", main = \"Gráfica de data$gl\", xlab = \"Tiempo (Índice)\", ylab = \"data$gl\", col = \"blue\", xlim=c(0,288), ylim=c(0,500))\n",
        "\n",
        "plot(states_observed, type = \"l\", main = \"Gráfica de data$state\", xlab = \"Tiempo (Índice)\", ylab = \"data$state\", col = \"red\", xlim=c(0,288), ylim=c(0,5))"
      ],
      "metadata": {
        "id": "yHaF5v0tDKBs",
        "colab": {
          "base_uri": "https://localhost:8080/",
          "height": 977
        },
        "outputId": "79545d80-2814-450e-e809-889e27de17b9"
      },
      "execution_count": 10,
      "outputs": [
        {
          "output_type": "display_data",
          "data": {
            "image/png": "[encoded data removed]"
          },
          "metadata": {}
        },
        {
          "output_type": "display_data",
          "data": {
            "image/png": "[encoded data removed]"
          },
          "metadata": {}
        }
      ]
    },
    {
      "cell_type": "markdown",
      "source": [
        "Y ahora veamos la verosimilitud del ajuste de parametros, donde podemos ver que en efecto convergió"
      ],
      "metadata": {
        "id": "HpEt0IqHIgPP"
      }
    },
    {
      "cell_type": "code",
      "source": [
        "%%R\n",
        "plot(h.activity$loglik,type='b',ylab='Log-likelihood',xlab='Iteration')"
      ],
      "metadata": {
        "colab": {
          "base_uri": "https://localhost:8080/",
          "height": 497
        },
        "id": "BQncdqWMIf2h",
        "outputId": "cab93bd7-d1f5-42e1-eea4-700ee6cd60d9"
      },
      "execution_count": 11,
      "outputs": [
        {
          "output_type": "display_data",
          "data": {
            "image/png": "[encoded data removed]"
          },
          "metadata": {}
        }
      ]
    },
    {
      "cell_type": "markdown",
      "source": [
        "### Resumen del modelo"
      ],
      "metadata": {
        "id": "pVr6ImeqI3cs"
      }
    },
    {
      "cell_type": "code",
      "source": [
        "%%R\n",
        "summary(h.activity)"
      ],
      "metadata": {
        "colab": {
          "base_uri": "https://localhost:8080/"
        },
        "id": "gLpDWwleexBh",
        "outputId": "7ef8bb6a-7188-4bdc-aa61-eee5cb4768f6"
      },
      "execution_count": 12,
      "outputs": [
        {
          "output_type": "stream",
          "name": "stdout",
          "text": [
            "\n",
            "Starting distribution = \n",
            "[1] 1.0e+00 0.0e+00 0.0e+00 1.9e-15 2.1e-15\n",
            "\n",
            "Transition matrix = \n",
            "     [,1] [,2] [,3] [,4] [,5]\n",
            "[1,]    0 1.00 0.00 0.00 0.00\n",
            "[2,]    0 0.00 1.00 0.00 0.00\n",
            "[3,]    0 0.11 0.00 0.89 0.00\n",
            "[4,]    0 0.00 0.65 0.00 0.35\n",
            "[5,]    0 0.00 0.00 1.00 0.00\n",
            "\n",
            "Sojourn distribution parameters = \n",
            "$shape\n",
            "[1] 6523.3482862    1.2512269    1.6310633    1.4590212    0.8656999\n",
            "\n",
            "$scale\n",
            "[1]  0.006282584  8.371042480  7.487138738  9.802979758 52.276513105\n",
            "\n",
            "$type\n",
            "[1] \"gamma\"\n",
            "\n",
            "\n",
            "Emission distribution parameters = \n",
            "$shape\n",
            "[1]  46.47455  87.23145 131.42082 153.78348  49.56295\n",
            "\n",
            "$scale\n",
            "[1] 1.863723 1.382556 1.235575 1.404227 5.937218\n",
            "\n"
          ]
        }
      ]
    },
    {
      "cell_type": "markdown",
      "source": [
        "### Uso del Algoritmo de Viterbi\n",
        "\n",
        "Ahora podemos usar la función predict que implementa el Algoritmo de Viterbi para modelos oculto de semi-Markov"
      ],
      "metadata": {
        "id": "iiy1hAc5I7NW"
      }
    },
    {
      "cell_type": "code",
      "source": [
        "%%R\n",
        "predicted <- predict(h.activity,train)"
      ],
      "metadata": {
        "id": "x36Cn2XZe-sU"
      },
      "execution_count": 13,
      "outputs": []
    },
    {
      "cell_type": "markdown",
      "source": [
        "Podemos comparar los estados reales con los simulados:"
      ],
      "metadata": {
        "id": "bYuGd_LgJd9V"
      }
    },
    {
      "cell_type": "code",
      "source": [
        "%%R\n",
        "plot(data[1:2016,]$state, type = \"l\", main = \"Gráfica de data$state\",\n",
        "     xlab = \"Paso de tiempo\", ylab = \"Estado\", col = \"red\")\n",
        "\n",
        "\n",
        "points(predicted$s[1:2016], col = \"blue\", pch = 19)\n",
        "\n",
        "legend(\"bottomright\", legend = c(\"Estados reales\", \"Estados (Viterbi) \"),\n",
        "       col = c(\"red\", \"blue\"), lty = c(1, NA), pch = c(NA, 19))\n"
      ],
      "metadata": {
        "colab": {
          "base_uri": "https://localhost:8080/",
          "height": 497
        },
        "id": "dDcI5dPDhuP8",
        "outputId": "c06d716f-f87e-465c-93f5-97fdda885fd7"
      },
      "execution_count": 14,
      "outputs": [
        {
          "output_type": "display_data",
          "data": {
            "image/png": "[encoded data removed]"
          },
          "metadata": {}
        }
      ]
    },
    {
      "cell_type": "markdown",
      "source": [
        "### Predicción de hipoglucemia en los minutos siguientes a la última lectura"
      ],
      "metadata": {
        "id": "46SBeiWqKNdg"
      }
    },
    {
      "cell_type": "markdown",
      "source": [
        "Primero se usa una función para saber cuanto tiempo duró la cadena en el mismo estado según el estado obtenido por Viterbi"
      ],
      "metadata": {
        "id": "1NLO4ktiKVIs"
      }
    },
    {
      "cell_type": "code",
      "source": [
        "%%R\n",
        "#############################################################################\n",
        "## Función para estimar el tiempo ya transcurrido en el último estado de    ##\n",
        "## la secuencia de estados generada por la función predict del paquete      ##\n",
        "## mhsmm integrado                                                          ##\n",
        "#############################################################################\n",
        "\n",
        "time_in_state <- function(pred_list){\n",
        "  # Obtiene el último estado predicho de la lista de predicciones\n",
        "  last_predicted_state <- pred_list[length(pred_list)]\n",
        "\n",
        "  # Inicializa un contador para contar el tiempo en el último estado\n",
        "  count <- 1\n",
        "\n",
        "  # Itera a través de la lista de predicciones desde el final hacia el inicio\n",
        "  for(i in 1:length(pred_list)){\n",
        "    # Si el estado actual es igual al último estado predicho\n",
        "    if(last_predicted_state == pred_list[length(pred_list) - i]){\n",
        "      # Incrementa el contador\n",
        "      count <- count + 1\n",
        "    }\n",
        "    else{\n",
        "      # Si el estado cambia, devuelve el contador con el tiempo acumulado\n",
        "      return(count)\n",
        "    }\n",
        "  }\n",
        "\n",
        "  # Si la secuencia completa es del mismo estado, devuelve el contador final\n",
        "  return(count)\n",
        "}\n"
      ],
      "metadata": {
        "id": "sHh4PdTUlxlx"
      },
      "execution_count": 15,
      "outputs": []
    },
    {
      "cell_type": "markdown",
      "source": [
        "Ahora se define la función para predecir hipoglicemia. Esta función predice la probabilidad de un evento de hipoglucemia en un paciente basado en un modelo oculto de semi-Markov (HSMM). Utiliza una lista de mediciones observadas de glucosa en sangre (CGM) y simula múltiples trayectorias futuras para predecir el estado latente futuro y la probabilidad de que ocurra un evento de hipoglucemia en los próximos 6 y 12 pasos de tiempo (30 y 60 minutos respectivamente).\n",
        "\n",
        "Parámetros:                                                             \n",
        " - model: el modelo oculto de semi-Markov (HSMM) ajustado.               \n",
        " - observed_CGM_list: lista de mediciones observadas de CGM.             \n",
        " - predict_at: número de minutos para predecir hacia el futuro (60 mins).\n",
        " - threshold: umbral de glucosa para definir hipoglucemia (70 mg/dl).     \n",
        " - n_simulations: número de simulaciones a realizar (por defecto 10000).  \n",
        "     \n",
        "                                                                         \n",
        " Retorna:\n",
        "\n",
        " - Una lista con la probabilidad de hipoglucemia a los 6 y 12 pasos.\n"
      ],
      "metadata": {
        "id": "gE2bq5_OKkNy"
      }
    },
    {
      "cell_type": "code",
      "source": [
        "%%R\n",
        "predict_hypoglycemia <- function(model, observed_CGM_list, predict_at = 60, threshold = 70, n_simulations = 10000) {\n",
        "\n",
        "  # Obtener la secuencia de estados latentes predicha por el modelo\n",
        "  pred_from_hsmm <- predict(model, observed_CGM_list)$s\n",
        "\n",
        "  # Extraer el último estado latente predicho\n",
        "  last_state <- pred_from_hsmm[length(pred_from_hsmm)]\n",
        "\n",
        "  # Inicializar una matriz para almacenar las predicciones de los estados simulados\n",
        "  # Filas: cada simulación; Columnas: estados predichos en cada paso de tiempo\n",
        "  state_predictions <- matrix(integer(n_simulations * (predict_at / 5)), nrow = n_simulations, byrow = TRUE)\n",
        "\n",
        "  # Simular las secuencias de estados futuros a lo largo de los siguientes pasos de tiempo\n",
        "  for (i in 1:n_simulations) {\n",
        "    current_state <- last_state\n",
        "    for (step in 1:(predict_at / 5)) {\n",
        "      # Determinar la transición de estado basándose en la matriz de transición del modelo\n",
        "      if (current_state == 1) {\n",
        "        # Si está en el estado 1, siempre transita al estado 2\n",
        "        current_state <- 2\n",
        "      } else if (current_state == 5) {\n",
        "        # Si está en el estado 5, siempre transita al estado 4\n",
        "        current_state <- 4\n",
        "      } else {\n",
        "        # Para otros estados, generar una transición basada en probabilidades\n",
        "        next_state <- runif(1)\n",
        "        if (next_state < model$model$trans[current_state, current_state - 1]) {\n",
        "          current_state <- current_state - 1  # Transición al estado anterior\n",
        "        } else {\n",
        "          current_state <- current_state + 1  # Transición al siguiente estado\n",
        "        }\n",
        "      }\n",
        "      # Guardar el estado predicho en la matriz de predicciones\n",
        "      state_predictions[i, step] <- current_state\n",
        "    }\n",
        "  }\n",
        "\n",
        "  # Calcular las probabilidades de hipoglucemia para cada estado latente\n",
        "  prob_of_hypoglycemia <- sapply(1:5, function(i) {\n",
        "    # Para cada estado, calcular la probabilidad de que la glucosa sea menor al umbral\n",
        "    pgamma(threshold, shape = model$model$parms.emission$shape[i], scale = model$model$parms.emission$scale[i])\n",
        "  })\n",
        "\n",
        "  # Calcular la probabilidad de hipoglucemia en los próximos 6 pasos de tiempo (30 minutos)\n",
        "  prob_hypo_6_steps <- mean(apply(state_predictions[, 1:6], 1, function(states) {\n",
        "    # Verificar si al menos uno de los estados predichos tiene alta probabilidad de hipoglucemia\n",
        "    any(prob_of_hypoglycemia[states] > runif(6))\n",
        "  }))\n",
        "\n",
        "  # Calcular la probabilidad de hipoglucemia en los próximos 12 pasos de tiempo (60 minutos)\n",
        "  prob_hypo_12_steps <- mean(apply(state_predictions[, 1:12], 1, function(states) {\n",
        "    # Verificar si al menos uno de los estados predichos tiene alta probabilidad de hipoglucemia\n",
        "    any(prob_of_hypoglycemia[states] > runif(12))\n",
        "  }))\n",
        "\n",
        "  # Devolver las probabilidades calculadas a 6 y 12 pasos\n",
        "  return(list(prob_hypo_6_steps = prob_hypo_6_steps, prob_hypo_12_steps = prob_hypo_12_steps))\n",
        "}"
      ],
      "metadata": {
        "id": "ltE25MCau6fb"
      },
      "execution_count": 63,
      "outputs": []
    },
    {
      "cell_type": "code",
      "source": [
        "%%R\n",
        "a = simulate(object = model, nsim = 4,rand.emission=model$rand.emission)"
      ],
      "metadata": {
        "id": "FCjbvjndWgpA"
      },
      "execution_count": 128,
      "outputs": []
    },
    {
      "cell_type": "code",
      "source": [
        "%%R\n",
        "a"
      ],
      "metadata": {
        "colab": {
          "base_uri": "https://localhost:8080/"
        },
        "id": "kyS3n-rDWq9P",
        "outputId": "2ceeb7c1-59ee-4c9e-f209-4fb05278ef9f"
      },
      "execution_count": 129,
      "outputs": [
        {
          "output_type": "stream",
          "name": "stdout",
          "text": [
            "$s\n",
            " [1] 3 3 3 3 4 4 4 4 4 4 4 4 4 4 4 4 4 5 5 5 5 5 5 5 5 5 5 5 5 5 5 5 4 4 4 4 4 4\n",
            "[39] 4 4 4 4\n",
            "\n",
            "$x\n",
            " [1] 179.6638 169.7998 182.2111 160.8488 166.2665 208.6739 217.1599 227.8657\n",
            " [9] 229.7278 196.1020 212.9700 207.0399 212.6247 215.7841 234.0732 229.5579\n",
            "[17] 219.9882 266.2430 301.4720 278.7428 275.7526 268.8458 254.8598 299.0899\n",
            "[25] 294.2010 305.0802 347.5107 327.0396 340.0090 272.4114 262.9932 292.9316\n",
            "[33] 233.7406 194.7792 191.8106 194.4553 218.8866 196.5543 196.2642 201.6324\n",
            "[41] 210.2025 209.2486\n",
            "\n",
            "$N\n",
            "[1] 42\n",
            "\n",
            "attr(,\"class\")\n",
            "[1] \"hsmm.data\"\n"
          ]
        }
      ]
    },
    {
      "cell_type": "code",
      "source": [
        "%%R\n",
        "predict_hypoglycemia <- function(model, observed_CGM_list, predict_at = 60) {\n",
        "  pred_from_hsmm <- predict(model, observed_CGM_list)$s\n",
        "  last_state <- pred_from_hsmm[length(pred_from_hsmm)]\n",
        "  tau <- time_in_state(pred_from_hsmm)\n",
        "\n",
        "  # Monte Carlo simulation setup\n",
        "  num_simulations <- 10000\n",
        "  state_predictions <- matrix(0, nrow = num_simulations, ncol = predict_at / 5)\n",
        "  emis_prediction <- matrix(0, nrow = num_simulations, ncol = predict_at / 5)\n",
        "\n",
        "  for (i in 1:num_simulations) {\n",
        "    current_state <- last_state\n",
        "    time_spent <- tau\n",
        "    for (t in 1:(predict_at / 5)) {\n",
        "      if (time_spent <= 0) {\n",
        "        # Transition to a new state\n",
        "        current_state <- sample(1:5, 1, prob = model$model$transition[current_state,])\n",
        "        time_spent <- rgamma(1, shape = model$model$sojourn$shape[current_state], scale = model$model$sojourn$scale[current_state])\n",
        "      }\n",
        "      state_predictions[i, t] <- current_state\n",
        "      emis_prediction[i, t] <- rgamma(1, shape = model$model$parms.emission$shape[current_state], scale = model$model$parms.emission$scale[current_state])\n",
        "      time_spent <- time_spent - 1\n",
        "    }\n",
        "  }\n",
        "\n",
        "  # Calculate probabilities of hypoglycemia within 30 and 60 minutes\n",
        "  Prob_of_Hypo_30min <- sapply(1:(predict_at / 5 - 6), function(j) {\n",
        "    mean(apply(emis_prediction[, j:(j+5)], 1, function(x) any(x < 70)))\n",
        "  })\n",
        "  Prob_of_Hypo_60min <- mean(apply(emis_prediction, 1, function(x) any(x < 70)))\n",
        "\n",
        "  list(\n",
        "    Prob_of_Hypo_30min = Prob_of_Hypo_30min,\n",
        "    Prob_of_Hypo_60min = Prob_of_Hypo_60min\n",
        "  )\n",
        "}\n"
      ],
      "metadata": {
        "id": "hk-szSl1S_Ko"
      },
      "execution_count": 17,
      "outputs": []
    },
    {
      "cell_type": "markdown",
      "source": [
        "**Uso de la función predict**"
      ],
      "metadata": {
        "id": "XcNtSo2lMJhT"
      }
    },
    {
      "cell_type": "code",
      "source": [
        "%%R\n",
        "result <- predict_hypoglycemia(h.activity, observed_CGM_list, predict_at = 60)"
      ],
      "metadata": {
        "id": "cQUerhoxvPr1"
      },
      "execution_count": 18,
      "outputs": []
    },
    {
      "cell_type": "markdown",
      "source": [
        "El resultado es que no se consiguieron probabilidades de hipoglucemia"
      ],
      "metadata": {
        "id": "nyX_wgzzNWhs"
      }
    },
    {
      "cell_type": "code",
      "source": [
        "%%R\n",
        "result"
      ],
      "metadata": {
        "colab": {
          "base_uri": "https://localhost:8080/"
        },
        "id": "fkNC6Qbhvvv3",
        "outputId": "9c6d9f05-bd15-420a-a73a-4315f5c91a17"
      },
      "execution_count": 19,
      "outputs": [
        {
          "output_type": "stream",
          "name": "stdout",
          "text": [
            "$Prob_of_Hypo_30min\n",
            "[1] 0 0 0 0 0 0\n",
            "\n",
            "$Prob_of_Hypo_60min\n",
            "[1] 0\n",
            "\n"
          ]
        }
      ]
    },
    {
      "cell_type": "markdown",
      "source": [
        "Veamos los siguientes 12 puntos, observamos que ninguno está por debajo de 70."
      ],
      "metadata": {
        "id": "x4GVsJOSNbSs"
      }
    },
    {
      "cell_type": "code",
      "source": [
        "%%R\n",
        "print(length(observed_CGM_list))\n",
        "data[2017:2028,]"
      ],
      "metadata": {
        "colab": {
          "base_uri": "https://localhost:8080/"
        },
        "id": "CYTuroJYLs0m",
        "outputId": "de533aa4-9b1b-4a15-fdf2-035cc8cbc813"
      },
      "execution_count": 20,
      "outputs": [
        {
          "output_type": "stream",
          "name": "stdout",
          "text": [
            "[1] 2016\n",
            "     id                time       gl gl_noise state\n",
            "2017  1 2020-12-19 05:07:04 158.3569 155.1338     3\n",
            "2018  1 2020-12-19 05:12:04 150.4931 149.8962     3\n",
            "2019  1 2020-12-19 05:17:04 161.0107 161.2849     3\n",
            "2020  1 2020-12-19 05:22:04 174.9731 171.2301     3\n",
            "2021  1 2020-12-19 05:27:04 131.5942 131.7189     3\n",
            "2022  1 2020-12-19 05:32:04 166.3015 165.6463     3\n",
            "2023  1 2020-12-19 05:37:04 228.0739 228.4087     4\n",
            "2024  1 2020-12-19 05:42:04 223.7833 227.6733     4\n",
            "2025  1 2020-12-19 05:47:04 187.0213 187.2466     4\n",
            "2026  1 2020-12-19 05:52:04 201.5612 202.1787     4\n",
            "2027  1 2020-12-19 05:57:04 253.1163 253.1877     4\n",
            "2028  1 2020-12-19 06:02:04 198.8395 199.0687     4\n"
          ]
        }
      ]
    },
    {
      "cell_type": "markdown",
      "source": [
        "El dataset simulado no tiene muchos valores de hipoglicemia, más que al principio, veamos un pequeño dataset de verdad, tomado del paciente 1 del dataset principal."
      ],
      "metadata": {
        "id": "B9rTiTMpPRId"
      }
    },
    {
      "cell_type": "code",
      "source": [
        "%%R\n",
        "data_pat_1<-read.csv(\"patient_id_1.csv\")"
      ],
      "metadata": {
        "id": "ESFm0oTAQBGw"
      },
      "execution_count": 21,
      "outputs": []
    },
    {
      "cell_type": "code",
      "source": [
        "%%R\n",
        "head(data_pat_1)"
      ],
      "metadata": {
        "colab": {
          "base_uri": "https://localhost:8080/"
        },
        "id": "vmvFYv-3QMKP",
        "outputId": "7079e0db-37f9-453b-c8c9-dedc75c0bc1d"
      },
      "execution_count": 22,
      "outputs": [
        {
          "output_type": "stream",
          "name": "stdout",
          "text": [
            "  id                time     gl\n",
            "1  1 2013-09-29 17:41:31 203.43\n",
            "2  1 2013-09-29 17:46:31 201.17\n",
            "3  1 2013-09-29 17:51:31 203.83\n",
            "4  1 2013-09-29 17:56:31 200.23\n",
            "5  1 2013-09-29 18:01:31 196.23\n",
            "6  1 2013-09-29 18:06:31 192.23\n"
          ]
        }
      ]
    },
    {
      "cell_type": "code",
      "source": [
        "%%R\n",
        "plot(data_pat_1$gl, type = \"l\", main = \"Gráfica de datos - paciente 1\", xlab = \"Pasos de tiempo\", ylab = \"data$gl\", col = \"blue\", xlim=c(0,288), ylim=c(0,500))"
      ],
      "metadata": {
        "colab": {
          "base_uri": "https://localhost:8080/",
          "height": 497
        },
        "id": "UgyGTX4dQt8U",
        "outputId": "11e8c912-4aa1-4eed-dda9-b6bb7df4322b"
      },
      "execution_count": 23,
      "outputs": [
        {
          "output_type": "display_data",
          "data": {
            "image/png": "[encoded data removed]"
          },
          "metadata": {}
        }
      ]
    },
    {
      "cell_type": "code",
      "source": [
        "%%R\n",
        "first_hypo_index <- which(data_pat_1$gl < 70)[1]\n",
        "print(first_hypo_index)"
      ],
      "metadata": {
        "colab": {
          "base_uri": "https://localhost:8080/"
        },
        "id": "0ksLCFsSQSLa",
        "outputId": "6447ee6a-97ae-4958-bda4-ce7839cf4f18"
      },
      "execution_count": 24,
      "outputs": [
        {
          "output_type": "stream",
          "name": "stdout",
          "text": [
            "[1] 314\n"
          ]
        }
      ]
    },
    {
      "cell_type": "code",
      "source": [
        "%%R\n",
        "obs_data_pat_1 = data_pat_1[1:310,]$gl"
      ],
      "metadata": {
        "id": "S2CgBdjOQe4B"
      },
      "execution_count": 25,
      "outputs": []
    },
    {
      "cell_type": "code",
      "source": [
        "%%R\n",
        "M <- 144\n",
        "train <- list(x = obs_data_pat_1, N = length(obs_data_pat_1))\n",
        "h.activity <- hsmmfit(train, model, mstep = mstep.gamma, maxit = 10000000, M = M, lock.transition = FALSE, lock.d = FALSE, graphical = FALSE)"
      ],
      "metadata": {
        "id": "Y-YX783yQPMm"
      },
      "execution_count": 26,
      "outputs": []
    },
    {
      "cell_type": "code",
      "source": [
        "%%R\n",
        "predicted <- predict(h.activity,train)"
      ],
      "metadata": {
        "id": "9kM4GMVoRbpo"
      },
      "execution_count": 27,
      "outputs": []
    },
    {
      "cell_type": "code",
      "source": [
        "%%R\n",
        "plot(predicted$s, type = \"l\", main = \"Gráfica de datos de paciente 1\",\n",
        "     xlab = \"Paso de tiempo\", ylab = \"Estado\", col = \"red\")\n"
      ],
      "metadata": {
        "colab": {
          "base_uri": "https://localhost:8080/",
          "height": 497
        },
        "id": "jtCifIZEN3r1",
        "outputId": "cb7dab3d-27db-4b96-91cd-13c7e5864b1f"
      },
      "execution_count": 28,
      "outputs": [
        {
          "output_type": "display_data",
          "data": {
            "image/png": "[encoded data removed]"
          },
          "metadata": {}
        }
      ]
    },
    {
      "cell_type": "code",
      "source": [
        "%%R\n",
        "result <- predict_hypoglycemia(h.activity, observed_CGM_list, predict_at = 60)"
      ],
      "metadata": {
        "id": "Hrue_kHHRmWX"
      },
      "execution_count": 29,
      "outputs": []
    },
    {
      "cell_type": "code",
      "source": [
        "%%R\n",
        "print(result)"
      ],
      "metadata": {
        "colab": {
          "base_uri": "https://localhost:8080/"
        },
        "id": "PGrail20R68S",
        "outputId": "cb94c355-29aa-42f2-8074-dbeeec0f10f8"
      },
      "execution_count": 30,
      "outputs": [
        {
          "output_type": "stream",
          "name": "stdout",
          "text": [
            "$Prob_of_Hypo_30min\n",
            "[1] 0 0 0 0 0 0\n",
            "\n",
            "$Prob_of_Hypo_60min\n",
            "[1] 0\n",
            "\n"
          ]
        }
      ]
    },
    {
      "cell_type": "code",
      "source": [
        "%%R\n",
        "predict_window <- function(model, observed_CGM_list, window_size = 288, n_steps = 10, n_simulations = 10000, threshold = 70) {\n",
        "\n",
        "  # Inicializar la matriz para guardar las predicciones (n_steps filas, 2 columnas)\n",
        "  predictions_matrix <- matrix(0, nrow = n_steps, ncol = 2)\n",
        "  colnames(predictions_matrix) <- c(\"Prob_Hypo_30min\", \"Prob_Hypo_60min\")\n",
        "\n",
        "  # Loop para mover la ventana de predicción\n",
        "  for (i in 1:n_steps) {\n",
        "    # Definir el rango de la ventana actual de observaciones\n",
        "    current_start <- i\n",
        "    current_end <- i + window_size - 1\n",
        "\n",
        "    # Tomar la ventana actual de observaciones\n",
        "    current_window <- observed_CGM_list[current_start:current_end]\n",
        "\n",
        "    # Hacer la predicción para los próximos 6 (30 min) y 12 pasos (60 min)\n",
        "    result <- predict_hypoglycemia(model, current_window, predict_at = 60, n_simulations = n_simulations, threshold = threshold)\n",
        "\n",
        "    # Guardar las probabilidades en la matriz\n",
        "    predictions_matrix[i, 1] <- result$prob_hypo_6_steps  # Probabilidad de hipoglucemia en 30 minutos (6 pasos)\n",
        "    predictions_matrix[i, 2] <- result$prob_hypo_12_steps # Probabilidad de hipoglucemia en 60 minutos (12 pasos)\n",
        "\n",
        "    # Verificar si hay suficientes datos para seguir moviendo la ventana\n",
        "    if (current_end + 12 > length(observed_CGM_list)) break\n",
        "  }\n",
        "\n",
        "  return(predictions_matrix)\n",
        "}\n"
      ],
      "metadata": {
        "id": "XHki3Sg4yAyd"
      },
      "execution_count": null,
      "outputs": []
    },
    {
      "cell_type": "markdown",
      "source": [
        "## Uso de Método de Montecarlo para cadenas de Markov para estimación de parámetros"
      ],
      "metadata": {
        "id": "OwAFxBSWYqCx"
      }
    },
    {
      "cell_type": "markdown",
      "source": [
        "En esta sección se realizaró una implementación de una función que estima parametros de un modelo oculto de semi-Markov con distribuciones de emisión y distribuciones de permanencia, ambas gamma. Se realizaron las funciones para n estados latentes posibles cuya matriz de transición es tridiagonal y su diagonal principal es 0 (Autotransiciones nulas). Los códigos se basaron en los algoritmos e implementaciones de \"MCMC implementation for Bayesian hidden semi-Markov models with illustrative applications\", nuestra segunda referencia principal.\n",
        "\n",
        "Primero se implementó una función para simular datos, que fue igualmente la usada en la sección anterior."
      ],
      "metadata": {
        "id": "EQFavAFUZcoF"
      }
    },
    {
      "cell_type": "code",
      "source": [
        "%%R\n",
        "install.packages('MCMCpack')\n",
        "library(MCMCpack)"
      ],
      "metadata": {
        "colab": {
          "base_uri": "https://localhost:8080/"
        },
        "id": "g3MY3AeYxiFi",
        "outputId": "6899d9c4-0a8d-41dd-c123-3974e337e44e"
      },
      "execution_count": null,
      "outputs": [
        {
          "output_type": "stream",
          "name": "stderr",
          "text": [
            "WARNING:rpy2.rinterface_lib.callbacks:R[write to console]: Installing package into ‘/usr/local/lib/R/site-library’\n",
            "(as ‘lib’ is unspecified)\n",
            "\n",
            "WARNING:rpy2.rinterface_lib.callbacks:R[write to console]: trying URL 'https://cran.rstudio.com/src/contrib/MCMCpack_1.7-1.tar.gz'\n",
            "\n",
            "WARNING:rpy2.rinterface_lib.callbacks:R[write to console]: Content type 'application/x-gzip'\n",
            "WARNING:rpy2.rinterface_lib.callbacks:R[write to console]:  length 734834 bytes (717 KB)\n",
            "\n",
            "WARNING:rpy2.rinterface_lib.callbacks:R[write to console]: =\n",
            "WARNING:rpy2.rinterface_lib.callbacks:R[write to console]: =\n",
            "WARNING:rpy2.rinterface_lib.callbacks:R[write to console]: =\n",
            "WARNING:rpy2.rinterface_lib.callbacks:R[write to console]: =\n",
            "WARNING:rpy2.rinterface_lib.callbacks:R[write to console]: =\n",
            "WARNING:rpy2.rinterface_lib.callbacks:R[write to console]: =\n",
            "WARNING:rpy2.rinterface_lib.callbacks:R[write to console]: =\n",
            "WARNING:rpy2.rinterface_lib.callbacks:R[write to console]: =\n",
            "WARNING:rpy2.rinterface_lib.callbacks:R[write to console]: =\n",
            "WARNING:rpy2.rinterface_lib.callbacks:R[write to console]: =\n",
            "WARNING:rpy2.rinterface_lib.callbacks:R[write to console]: =\n",
            "WARNING:rpy2.rinterface_lib.callbacks:R[write to console]: =\n",
            "WARNING:rpy2.rinterface_lib.callbacks:R[write to console]: =\n",
            "WARNING:rpy2.rinterface_lib.callbacks:R[write to console]: =\n",
            "WARNING:rpy2.rinterface_lib.callbacks:R[write to console]: =\n",
            "WARNING:rpy2.rinterface_lib.callbacks:R[write to console]: =\n",
            "WARNING:rpy2.rinterface_lib.callbacks:R[write to console]: =\n",
            "WARNING:rpy2.rinterface_lib.callbacks:R[write to console]: =\n",
            "WARNING:rpy2.rinterface_lib.callbacks:R[write to console]: =\n",
            "WARNING:rpy2.rinterface_lib.callbacks:R[write to console]: =\n",
            "WARNING:rpy2.rinterface_lib.callbacks:R[write to console]: =\n",
            "WARNING:rpy2.rinterface_lib.callbacks:R[write to console]: =\n",
            "WARNING:rpy2.rinterface_lib.callbacks:R[write to console]: =\n",
            "WARNING:rpy2.rinterface_lib.callbacks:R[write to console]: =\n",
            "WARNING:rpy2.rinterface_lib.callbacks:R[write to console]: =\n",
            "WARNING:rpy2.rinterface_lib.callbacks:R[write to console]: =\n",
            "WARNING:rpy2.rinterface_lib.callbacks:R[write to console]: =\n",
            "WARNING:rpy2.rinterface_lib.callbacks:R[write to console]: =\n",
            "WARNING:rpy2.rinterface_lib.callbacks:R[write to console]: =\n",
            "WARNING:rpy2.rinterface_lib.callbacks:R[write to console]: =\n",
            "WARNING:rpy2.rinterface_lib.callbacks:R[write to console]: =\n",
            "WARNING:rpy2.rinterface_lib.callbacks:R[write to console]: =\n",
            "WARNING:rpy2.rinterface_lib.callbacks:R[write to console]: =\n",
            "WARNING:rpy2.rinterface_lib.callbacks:R[write to console]: =\n",
            "WARNING:rpy2.rinterface_lib.callbacks:R[write to console]: =\n",
            "WARNING:rpy2.rinterface_lib.callbacks:R[write to console]: =\n",
            "WARNING:rpy2.rinterface_lib.callbacks:R[write to console]: =\n",
            "WARNING:rpy2.rinterface_lib.callbacks:R[write to console]: =\n",
            "WARNING:rpy2.rinterface_lib.callbacks:R[write to console]: =\n",
            "WARNING:rpy2.rinterface_lib.callbacks:R[write to console]: =\n",
            "WARNING:rpy2.rinterface_lib.callbacks:R[write to console]: =\n",
            "WARNING:rpy2.rinterface_lib.callbacks:R[write to console]: =\n",
            "WARNING:rpy2.rinterface_lib.callbacks:R[write to console]: =\n",
            "WARNING:rpy2.rinterface_lib.callbacks:R[write to console]: =\n",
            "WARNING:rpy2.rinterface_lib.callbacks:R[write to console]: =\n",
            "WARNING:rpy2.rinterface_lib.callbacks:R[write to console]: =\n",
            "WARNING:rpy2.rinterface_lib.callbacks:R[write to console]: =\n",
            "WARNING:rpy2.rinterface_lib.callbacks:R[write to console]: =\n",
            "WARNING:rpy2.rinterface_lib.callbacks:R[write to console]: =\n",
            "WARNING:rpy2.rinterface_lib.callbacks:R[write to console]: =\n",
            "WARNING:rpy2.rinterface_lib.callbacks:R[write to console]: \n",
            "\n",
            "WARNING:rpy2.rinterface_lib.callbacks:R[write to console]: downloaded 717 KB\n",
            "\n",
            "\n"
          ]
        }
      ]
    },
    {
      "cell_type": "code",
      "source": [
        "%%R\n",
        "sim.process <- function(L, id, num_states, noise_sd = 5, p.init, m.init, params_dist_emission, params_dist_sojourn) {\n",
        "  ###############################################\n",
        "  # Simula un proceso oculto de semi-Markov con #\n",
        "  # transiciones entre estados según la matriz  #\n",
        "  # de transición del modelo, y asigna valores  #\n",
        "  # de glucosa y duraciones basados en          #\n",
        "  # distribuciones específicas para cada estado.#\n",
        "  ###############################################\n",
        "\n",
        "  # Inicializamos las estructuras para guardar resultados\n",
        "  chain <- c()    # Almacenará la secuencia de estados latentes\n",
        "  time <- c()     # Almacenará los tiempos simulados\n",
        "  gl <- c()       # Almacenará los valores simulados de glucosa\n",
        "\n",
        "  # Definir la distribución inicial\n",
        "    if (length(p.init) > 0) {\n",
        "        p.init <- p.init\n",
        "    } else {\n",
        "        p.init <- rep(1/num_states, num_states)\n",
        "    }\n",
        "\n",
        "  # Matriz de transición (las transiciones permitidas son a estados adyacentes)\n",
        "  if (length(m.init) > 0) {\n",
        "    if (all(dim(m.init) == c(num_states, num_states)) && all(diag(m.init) == 0)) {\n",
        "        # Asignar P a m.init si cumple las condiciones\n",
        "        P <- m.init\n",
        "    } else {\n",
        "        stop(\"Error: m.init debe ser una matriz de tamaño num_states x num_states con ceros en la diagonal.\")\n",
        "    }\n",
        "  } else {\n",
        "    # Si m.init está vacío, crear la matriz aleatoria\n",
        "    P <- matrix(0, num_states, num_states)\n",
        "    for (i in 1:num_states) {\n",
        "        if (i > 1) P[i, i-1] <- runif(1, 0, 1)  # Transición hacia atrás\n",
        "        if (i < num_states) P[i, i+1] <- runif(1, 0, 1)  # Transición hacia adelante\n",
        "    }\n",
        "  }\n",
        "\n",
        "  # Normalización de la matriz de transición\n",
        "  P <- t(apply(P, 1, function(x) x / sum(x)))\n",
        "\n",
        "  # Extraer los parámetros para las distribuciones de emisión desde params_dist_emission\n",
        "  gamma_shape_gl <- sapply(1:num_states, function(i) params_dist_emission[i, 1])\n",
        "  gamma_scale_gl <- sapply(1:num_states, function(i) params_dist_emission[i, 2])\n",
        "\n",
        "  # Extraer los parámetros para las distribuciones de permanencia desde params_dist_sojourn\n",
        "  gamma_shape_dur <- sapply(1:num_states, function(i) params_dist_sojourn[i, 1])\n",
        "  gamma_scale_dur <- sapply(1:num_states, function(i) params_dist_sojourn[i, 2])\n",
        "\n",
        "  current_state <- sample(1:num_states, 1, prob = p.init)\n",
        "\n",
        "  start_time <- as.POSIXct(Sys.Date()) - sample(1:3650, 1) * 24 * 60 * 60\n",
        "  start_time <- start_time + sample(0:(24*60*60 - 1), 1)\n",
        "\n",
        "  while (length(chain) < L) {\n",
        "\n",
        "    duration <- round(rgamma(1, shape = gamma_shape_dur[current_state], scale = gamma_scale_dur[current_state]))\n",
        "    duration <- min(duration, L - length(chain))\n",
        "\n",
        "    chain <- c(chain, rep(current_state, duration))\n",
        "\n",
        "    gl_values <- rgamma(duration, shape = gamma_shape_gl[current_state], scale = gamma_scale_gl[current_state])\n",
        "    gl <- c(gl, gl_values)\n",
        "\n",
        "    # Generamos las marcas de tiempo en formato requerido\n",
        "    if (length(time) == 0) {\n",
        "      time <- seq(from = start_time, by = 5 * 60, length.out = duration)\n",
        "    } else {\n",
        "      last_time <- tail(time, 1)\n",
        "      time <- c(time, seq(from = last_time + 5 * 60, by = 5 * 60, length.out = duration))\n",
        "    }\n",
        "\n",
        "    # Elegir el siguiente estado basado en las probabilidades de transición\n",
        "    current_state <- sample(1:num_states, 1, prob = P[current_state,])\n",
        "  }\n",
        "\n",
        "  # Ajustamos el número de registros a exactamente L\n",
        "  chain <- chain[1:L]\n",
        "  gl <- gl[1:L]\n",
        "  time <- time[1:L]\n",
        "\n",
        "  # Agregar ruido gaussiano a los valores de glucosa\n",
        "  gl_noise <- pmax(gl + rnorm(L, mean = 0, sd = noise_sd), 0)\n",
        "\n",
        "  # Formateamos el tiempo al formato solicitado\n",
        "  time <- format(time, \"%Y-%m-%d %H:%M:%S\")\n",
        "\n",
        "  # Crear un dataframe con las columnas solicitadas\n",
        "  result <- data.frame(\n",
        "    id = rep(id, L),\n",
        "    time = time,\n",
        "    gl = gl,\n",
        "    gl_noise = gl_noise,  # Columna con el ruido agregado\n",
        "    state = chain  # Usamos la secuencia generada por el modelo\n",
        "  )\n",
        "\n",
        "  return(result)\n",
        "}\n"
      ],
      "metadata": {
        "id": "sNP6Qow-Yr7G"
      },
      "execution_count": 132,
      "outputs": []
    },
    {
      "cell_type": "markdown",
      "source": [
        "Luego se implemento el algoritmo forward descrito en el documento del proyecto (Formulación a base de matrices). El algoritmo Forward es usado para calcular de forma eficiente la verosimilitud de los datos dado el modelo, este valor es el que tenemos que maximizar y para ello vamos a usar MCMC via metropolis-hastings. Tanto para el algoritmo forward como para el MCMC, se trabajó en escala logaritmica con el objetivo de no tener problemas de precisión por la pequeña escala numérica en la que se trabaja."
      ],
      "metadata": {
        "id": "IlDm-2wVYs0w"
      }
    },
    {
      "cell_type": "code",
      "source": [
        "%%R\n",
        "for.alg <- function (p.init, m.init, params_dist_emission, params_dist_sojourn, n_states, n, y) {\n",
        "    ####################################################\n",
        "    # Modelo con n estados latentes con distribuciones #\n",
        "    # de emisión y de permanencia gamma.               #\n",
        "    ####################################################\n",
        "\n",
        "    # Se inicializan las probabilidades iniciales (p.init) en logaritmo\n",
        "    p.init <- log(p.init)\n",
        "\n",
        "   if (length(m.init) > 0) {\n",
        "    if (all(dim(m.init) == c(n_states, n_states)) && all(diag(m.init) == 0)) {\n",
        "        P <- m.init\n",
        "    } else {\n",
        "        stop(\"Error: m.init debe ser una matriz de tamaño num_states x num_states con ceros en la diagonal.\")\n",
        "    }\n",
        "  } else {\n",
        "    P <- matrix(0, n_states, n_states)\n",
        "    for (i in 1:n_states) {\n",
        "        if (i > 1) P[i, i-1] <- runif(1, 0, 1)  # Transición hacia atrás\n",
        "        if (i < n_states) P[i, i+1] <- runif(1, 0, 1)  # Transición hacia adelante\n",
        "    }\n",
        "    diag(P) <- 0\n",
        "  }\n",
        "    P <- t(apply(P, 1, function(x) x / sum(x)))\n",
        "    #print(\"===== Matriz de Transición =====\")\n",
        "    #print(P)\n",
        "    # Z es una matriz de unos con la diagonal en 0, se utiliza para manejar las no-diagonales\n",
        "    Z <- matrix(rep(1, n_states^2), n_states, n_states) - diag(n_states)\n",
        "\n",
        "    ### Cálculo de las distribuciones de tiempos de permanencia (Gamma) ###\n",
        "    log.P <- log(P)\n",
        "    log.P[P == NA] <- -Inf\n",
        "\n",
        "   # print(\"===== Log(Matriz de Transición) =====\")\n",
        "   # print(log.P)\n",
        "\n",
        "\n",
        "    # Se calculan las densidades de la distribución de permanencia Gamma para cada estado\n",
        "    log.h <- matrix(0, n-1, n_states)\n",
        "\n",
        "    for (i in 1:n_states) {\n",
        "\n",
        "      log.h[,i] <- dgamma(1:(n-1), shape=params_dist_sojourn[i, 1], scale=params_dist_sojourn[i, 2], log=T) -\n",
        "                   log(1 - pgamma(0, shape=params_dist_sojourn[i, 1], scale=params_dist_sojourn[i, 2]))\n",
        "    }\n",
        "\n",
        "   # print(\"===== Log(Densidades de distribución de permanencia) (n-1 x n_states) =====\")\n",
        "   # print(log.h)\n",
        "\n",
        "    # Se inicializa la primera columna de densidades de tiempo de permanencia\n",
        "    log.H1 <- log.h[1,]\n",
        "\n",
        "   # print(\"===== Log(Densidades de tiempo de permanencia para T = 1) (1 x n_states) =====\")\n",
        "   # print(log.H1)\n",
        "\n",
        "    # Matriz de transición multiplicada por las densidades de permanencia (para 1 paso de tiempo)\n",
        "    log.PH1 <- log.P + Z %*% diag(log.H1)\n",
        "    #Hacer calculos\n",
        "\n",
        "   # print(\"===== Log(Matriz de transición multiplicada por las densidades de permanencia) (1 x n_states) =====\")\n",
        "   # print(log.PH1)\n",
        "\n",
        "    # Cálculo de las razones entre las densidades h(t) y h(t-1) para cada estado\n",
        "    Ratios <- matrix(0, n-2, n_states)\n",
        "    for (i in 1:n_states) {\n",
        "      Ratios[,i] <- log.h[2:(n-1),i] - log.h[1:(n-2),i]\n",
        "    }\n",
        "\n",
        "\n",
        "   # print(\"===== razones entre las densidades h(t) y h(t-1) para cada estado =====\")\n",
        "   # print(Ratios)\n",
        "\n",
        "    #####\n",
        "\n",
        "    # Cálculo de las funciones de supervivencia para la distribución Gamma (permanencia en el estado)\n",
        "    log.s <- matrix(0, n, n_states)\n",
        "    for (i in 1:n_states) {\n",
        "      log.s[,i] <- pgamma(0:(n-1), shape=params_dist_sojourn[i, 1], scale=params_dist_sojourn[i, 2], lower.tail=F, log.p=T) -\n",
        "                   log(1 - pgamma(0, shape=params_dist_sojourn[i, 1], scale=params_dist_sojourn[i, 2]))\n",
        "    }\n",
        "    #####\n",
        "\n",
        "    # Se inicializa la primera columna de supervivencia\n",
        "    log.S1 <- log.s[1,]\n",
        "    #####\n",
        "\n",
        "    # Matriz de transición multiplicada por los valores de supervivencia para 1 paso de tiempo\n",
        "    log.PS1 <- log.P + Z %*% diag(log.S1)\n",
        "    #####\n",
        "\n",
        "    # Cálculo de las razones entre las funciones de supervivencia y las densidades de permanencia\n",
        "    S.Ratios <- matrix(0, n-1, n_states)\n",
        "    for (i in 1:n_states) {\n",
        "      S.Ratios[,i] <- log.s[2:n,i] - log.h[1:(n-1),i]\n",
        "    }\n",
        "    ####\n",
        "\n",
        "\n",
        "    ### Cálculo de los valores del modelo condicional Gamma (emisión) ###\n",
        "    log.F <- matrix(0, n, n_states)\n",
        "    for (i in 1:n_states) {\n",
        "      log.F[,i] <- dgamma(y, shape=params_dist_emission[i, 1], scale=params_dist_emission[i, 2], log=T)  # Densidad gamma para los valores observados\n",
        "    }\n",
        "    ###\n",
        "\n",
        "    ### FUNCIÓN PARA CALCULAR EL LOG DE LA SUMA DE LOGS ###\n",
        "    sumlog <- function(vec) {\n",
        "      M <- max(vec)\n",
        "      if(is.na(M)){ return(-Inf) }\n",
        "      if (M == -Inf) { return(M) }\n",
        "      result <- log(sum(exp(vec - M))) + M\n",
        "      return(result)\n",
        "    }\n",
        "\n",
        "    ### INICIO DE LA RECURSIÓN ###\n",
        "    alpha <- list()  # Lista para almacenar los vectores alpha\n",
        "    Alpha <- list()  # Lista para almacenar las matrices alpha\n",
        "    xi <- matrix(rep(0, n * n_states), n, n_states)  # Matriz para almacenar xi\n",
        "    log.lik <- numeric(n)  # Vector para almacenar la verosimilitud en cada paso\n",
        "\n",
        "    ### t=1 ###\n",
        "    gamma <- p.init + log.H1 + log.F[1,]  # Cálculo de gamma para el primer paso\n",
        "    log.lik[1] <- sumlog(gamma)  # Cálculo de la verosimilitud para t=1\n",
        "    alpha[[1]] <- gamma - log.lik[1]  # Se ajusta alpha con el log-likelihood\n",
        "    Alpha[[1]] <- matrix(rep(-Inf, n_states * n_states), n_states, n_states)\n",
        "    diag(Alpha[[1]]) <- alpha[[1]]\n",
        "\n",
        "    ### t=2 ###\n",
        "    gamma <- gamma + Ratios[1,] + log.F[2,]  # Cálculo de gamma para t=2 (diagonales)\n",
        "    A <- diag(alpha[[1]]) %*% Z + log.PH1 + Z %*% diag(log.F[2,])  # Cálculo de A (no-diagonales)\n",
        "    xi[2,] <- 0\n",
        "\n",
        "    for (j in 1:n_states) {\n",
        "      xi[2,j] <- sumlog(A[-j,j])\n",
        "    }\n",
        "\n",
        "    xi[2,] <- xi[2,] + log.lik[1]  # Escalado para xi\n",
        "    alpha[[2]] <- apply(matrix(c(gamma, xi[2,]), n_states, 2), 1, sumlog)\n",
        "    log.lik[2] <- sumlog(alpha[[2]])  # Verosimilitud para t=2\n",
        "    alpha[[2]] <- alpha[[2]] - log.lik[2]  # Escalado de alpha para t=2\n",
        "    Alpha[[2]] <- A + matrix(log.lik[1], n_states, n_states)\n",
        "    diag(Alpha[[2]]) <- gamma\n",
        "\n",
        "    ### t=3,...,n-1 ###\n",
        "    for (i in 3:(n-1)) {\n",
        "      gamma <- gamma + Ratios[i-1,] + log.F[i,]  # Cálculo de gamma para t>=3 (diagonales)\n",
        "      A <- diag(alpha[[i-1]]) %*% Z + log.PH1 + Z %*% diag(log.F[i,])  # Cálculo de A (no-diagonales)\n",
        "\n",
        "      #xi[2:(i-1),] <- t(t(xi[2:(i-1),] + Ratios[(i-2):1,]) + log.F[i,])  # Cálculo de xi (diagonales)\n",
        "\n",
        "      #Revisar de nuevooo\n",
        "\n",
        "      for (k in 2:(i-1)) {\n",
        "          for(j in 1:n_states){\n",
        "              xi[k, j] <- xi[k, j] + Ratios[i-k, j] + log.F[i, j]\n",
        "          }\n",
        "      }\n",
        "\n",
        "      for (j in 1:n_states) {\n",
        "        xi[i,j] <- sumlog(A[-j, j])\n",
        "      }\n",
        "      xi[i,] <- xi[i,] + log.lik[i-1]  # Escalado para xi\n",
        "\n",
        "      dummy <- apply(matrix(c(gamma, xi[2,]), n_states, 2), 1, sumlog)\n",
        "\n",
        "      for (j in 3:(i-1)) {\n",
        "        dummy <- apply(matrix(c(dummy, xi[j,]), n_states, 2), 1, sumlog)\n",
        "      }\n",
        "      alpha[[i]] <- apply(matrix(c(dummy, xi[i,]), n_states, 2), 1, sumlog)  # Actualización de alpha\n",
        "      log.lik[i] <- sumlog(alpha[[i]])  # Verosimilitud para t=i\n",
        "      alpha[[i]] <- alpha[[i]] - log.lik[i]  # Escalado de alpha\n",
        "      Alpha[[i]] <- A + matrix(log.lik[i-1], n_states, n_states) - matrix(log.lik[i], n_states, n_states)\n",
        "      diag(Alpha[[i]]) <- dummy - log.lik[i]\n",
        "    }\n",
        "\n",
        "    ### t=n -- Último paso, usando las funciones de supervivencia ###\n",
        "    gamma <- gamma + S.Ratios[n-1,] + log.F[n,]  # Cálculo de gamma para el último paso\n",
        "    #xi[2:(n-1),] <- t(t(xi[2:(n-1),] + S.Ratios[n-2:1,]) + log.F[n,])  # Cálculo de xi para el último paso\n",
        "    A <- diag(alpha[[n-1]]) %*% Z + log.PS1 + Z %*% diag(log.F[n,])  # Cálculo de A (no-diagonales)\n",
        "\n",
        "    for (k in 2:(n-1)) {\n",
        "          for(j in 1:n_states){\n",
        "              xi[k, j] <- xi[k, j] + Ratios[n-k, j] + log.F[n, j]\n",
        "          }\n",
        "    }\n",
        "\n",
        "\n",
        "\n",
        "    for (j in 1:n_states) {\n",
        "      xi[n,j] <- sumlog(A[-j, j])\n",
        "    }\n",
        "\n",
        "    xi[n,] <- xi[n,] + log.lik[n-1]  # Escalado para xi en el último paso\n",
        "\n",
        "    dummy <- apply(matrix(c(gamma, xi[2,]), n_states, 2), 1, sumlog)\n",
        "    for (j in 3:n) {\n",
        "        dummy <- apply(matrix(c(dummy, xi[j,]), n_states, 2), 1, sumlog)\n",
        "    }\n",
        "    alpha[[n]] <- apply(matrix(c(dummy, xi[n,]), n_states, 2), 1, sumlog)  # Actualización de alpha\n",
        "    log.lik[n] <- sumlog(alpha[[n]])  # Verosimilitud total\n",
        "    Alpha[[n]] <- A + matrix(log.lik[n-1], n_states, n_states) - matrix(log.lik[n], n_states, n_states)\n",
        "    diag(Alpha[[n]]) <- dummy - log.lik[n]\n",
        "\n",
        "\n",
        "    return(log.lik[n])\n",
        "\n",
        "}\n"
      ],
      "metadata": {
        "id": "geP8cXTEa01U"
      },
      "execution_count": 141,
      "outputs": []
    },
    {
      "cell_type": "markdown",
      "source": [
        "Veamos ahora el algortimo de metropolis-hastings. Algunos detalles son que para las funciones de aceptación se usó la log-probabilidad a posteriori. Y las probabilidades a priori de los parametros fueron por una parte, distribuciones gamma para los parametros de las disrribuciones gamma, considerando que son parametros positivos y las distribuciones gamma solo toman parametros positivos. Por otro lado se usaron distribuciones dirichlet para las entradas del vector de probabilidad inicial e igualmente para las entradas no nulas de la matriz de transición.\n",
        "\n",
        "Veamos a continuación la implementación de las funciones de densidad para gamma y dirichlet."
      ],
      "metadata": {
        "id": "mxeyDh8xbD8a"
      }
    },
    {
      "cell_type": "code",
      "source": [
        "%%R\n",
        "rDirichlet <-\n",
        "function (n, alpha)\n",
        "{\n",
        "    l <- length(alpha)\n",
        "    x <- matrix(nrow = n, ncol = l)\n",
        "    for (i in 1:l) {\n",
        "        x[, i] <- rGamma(n, alpha[i])\n",
        "    }\n",
        "    sm <- x %*% rep(1, l)\n",
        "    return(x/as.vector(sm))\n",
        "}\n",
        "\n",
        "rGamma <-\n",
        "function (N, SHAPE, RATE = 1, SCALE = 1/RATE)\n",
        "{\n",
        "    RGAMMA <- function(n, Shape, rate = 1, scale = 1/rate) {\n",
        "        scale1 <- function(shape) {\n",
        "            t <- 0.07 + 0.75 * sqrt(1 - shape)\n",
        "            b <- 1 + (shape * exp(-t))/t\n",
        "            YY <- 0\n",
        "            while (YY == 0) {\n",
        "                u1 <- runif(1)\n",
        "                u2 <- runif(1)\n",
        "                v <- b * u1\n",
        "                if (v <= 1) {\n",
        "                  x <- t * (v^(1/shape))\n",
        "                  if (u2 <= (2 - x)/(2 + x)) {\n",
        "                    YY <- x\n",
        "                  }\n",
        "                  else {\n",
        "                    if (u2 <= exp(-x)) {\n",
        "                      YY <- x\n",
        "                    }\n",
        "                  }\n",
        "                }\n",
        "                else {\n",
        "                  x <- -log(t * (b - v)/shape)\n",
        "                  y <- x/t\n",
        "                  if (u2 * (shape + y * (1 - shape)) <= 1) {\n",
        "                    YY <- x\n",
        "                  }\n",
        "                  else {\n",
        "                    if (u2 <= y^(shape - 1)) {\n",
        "                      YY <- x\n",
        "                    }\n",
        "                  }\n",
        "                }\n",
        "            }\n",
        "            return(YY)\n",
        "        }\n",
        "        dummy <- 0\n",
        "        for (i in 1:n) {\n",
        "            dummy2 <- scale1(Shape)\n",
        "            dummy[i] <- dummy2 * scale\n",
        "        }\n",
        "        return(dummy)\n",
        "    }\n",
        "    if (SHAPE <= 1) {\n",
        "        return(RGAMMA(n = N, Shape = SHAPE, scale = SCALE))\n",
        "    }\n",
        "    else (return(rgamma(N, shape = SHAPE, scale = SCALE)))\n",
        "}\n"
      ],
      "metadata": {
        "id": "tQCWFyNOczQX"
      },
      "execution_count": 134,
      "outputs": []
    },
    {
      "cell_type": "markdown",
      "source": [
        "Ahora, veamos la función que ajusta el modelo usando MCMC"
      ],
      "metadata": {
        "id": "xLAsG36Vcv9j"
      }
    },
    {
      "cell_type": "code",
      "source": [
        "%%R\n",
        "fit.model <- function(n.sims, burn.in, inits = NULL, n_states, observed_data, M = 144) {\n",
        "  library(MCMCpack)\n",
        "  library(MASS)  # For mvrnorm\n",
        "\n",
        "  Y <- observed_data\n",
        "  n <- length(Y)\n",
        "\n",
        "\n",
        "\n",
        "  ### FUNCTION TO EVALUATE THE LOG-POSTERIOR ###\n",
        "  post <- function(log.lhood, emission_params, duration_params, p.init, trans_matrix) {\n",
        "    if (any(emission_params <= 0) || any(duration_params <= 0) ) {return(-Inf)}\n",
        "\n",
        "    log_prior <- 0\n",
        "\n",
        "    # Log-prior for the transition matrix (only states 2 to n_states-1, ignoring states 1 and n_states)\n",
        "    for (state in 2:(n_states - 1)) {\n",
        "      trans_row <- trans_matrix[state, c(state - 1, state + 1)]\n",
        "      # Ensure probabilities sum to 1 before computing log-prior\n",
        "      trans_row <- trans_row / sum(trans_row)\n",
        "      log_prior <- log_prior + log(ddirichlet(trans_row, c(1, 1)))  # Dirichlet prior for contiguous transitions\n",
        "    }\n",
        "\n",
        "    return(\n",
        "      log.lhood +\n",
        "        sum(dgamma(emission_params[, 1], 0.001, 0.001, log = TRUE)) +  # Shape for emissions\n",
        "        sum(dgamma(emission_params[, 2], 0.001, 0.001, log = TRUE)) +  # Scale for emissions\n",
        "        sum(dgamma(duration_params[, 1], 0.001, 0.001, log = TRUE)) +  # Shape for durations\n",
        "        sum(dgamma(duration_params[, 2], 0.001, 0.001, log = TRUE)) +  # Scale for durations\n",
        "        log(ddirichlet(p.init, rep(1, n_states)))\n",
        "    )\n",
        "  }\n",
        "\n",
        "  ### LOGLIKELIHOOD VERIFY\n",
        "\n",
        "  loglikelihood <- function(p.init, m.init, params_dist_emission, params_dist_sojourn, n_states, n, y) {\n",
        "    # Verificar que todos los parámetros sean positivos\n",
        "    #if (any(params_dist_emission<= 0)) {\n",
        "    #    print(\"F\")\n",
        "    #    return(-Inf)\n",
        "    #}\n",
        "\n",
        "    #if (any(params_dist_sojourn<= 0)) {\n",
        "    #    print(\"F\")\n",
        "    #    return(-Inf)\n",
        "    #}\n",
        "\n",
        "  # Si todos los parámetros son positivos, calcular la verosimilitud\n",
        "  log_likelihood <- for.alg(p.init = p.init,\n",
        "                            m.init = m.init,\n",
        "                            params_dist_emission = params_dist_emission,\n",
        "                            params_dist_sojourn = params_dist_sojourn,\n",
        "                            n_states = n_states,\n",
        "                            n = n,\n",
        "                            y = y)\n",
        "\n",
        "  return(log_likelihood)\n",
        "}\n",
        "\n",
        "  print(\"===== Iniciando MCMC =====\")\n",
        "  flush.console()\n",
        "  ### INITIAL VALUES ###\n",
        "  if (is.null(inits)) {\n",
        "    emission_params <- matrix(c(runif(n_states, 1, 2), runif(n_states, 1, 2)), ncol = 2)\n",
        "    duration_params <- matrix(c(runif(n_states, 1, 2), runif(n_states, 1, 2)), ncol = 2)\n",
        "\n",
        "    p.initA <- rep(1 / n_states, n_states)\n",
        "    trans_matrix <- diag(0, n_states)\n",
        "    trans_matrix[row(trans_matrix) == col(trans_matrix) - 1] <- 0.5\n",
        "    trans_matrix[row(trans_matrix) == col(trans_matrix) + 1] <- 0.5\n",
        "    trans_matrix[1, 2] <- 1\n",
        "    trans_matrix[n_states, n_states - 1] <- 1\n",
        "  } else {\n",
        "    emission_params <- inits$emission_params\n",
        "    duration_params <- inits$duration_params\n",
        "    p.initA <- inits$p.init\n",
        "    trans_matrix <- inits$trans_matrix\n",
        "  }\n",
        "\n",
        "  print(\"===== Parámetros inicializados ======\")\n",
        "  print(\"Parámetros de emisión (shape y scale):\")\n",
        "  print(emission_params)\n",
        "  print(\"Parámetros de duración (shape y scale):\")\n",
        "  print(duration_params)\n",
        "  print(\"Distribución inicial (p.initA):\")\n",
        "  print(p.initA)\n",
        "  print(\"Matriz de transición:\")\n",
        "  print(trans_matrix)\n",
        "  flush.console()\n",
        "\n",
        "  paramA <- c(emission_params[, 1],\n",
        "              emission_params[, 2],\n",
        "              duration_params[, 1],\n",
        "              duration_params[, 2])\n",
        "\n",
        "  ### Setup for MCMC Sampling ###\n",
        "  n_params <- 7 * n_states - 4\n",
        "  #sims.matrix <- matrix(nrow = n.sims, ncol = n_params + 2)  # parámetros + likelihood + posterior\n",
        "  sims_list <- vector(\"list\", n.sims)  # parámetros + likelihood + posterior\n",
        "\n",
        "  log.likelihoodA <- loglikelihood(p.init = p.initA,\n",
        "                             m.init = trans_matrix,\n",
        "                             params_dist_emission = emission_params,\n",
        "                             params_dist_sojourn = duration_params,\n",
        "                             n_states = n_states,\n",
        "                             n = n,\n",
        "                             y = Y)\n",
        "\n",
        "  print(paste(\"Initial Log-likelihood:\", log.likelihoodA))\n",
        "  flush.console()\n",
        "  log.postA <- post(log.likelihoodA, emission_params, duration_params, p.initA, trans_matrix)\n",
        "\n",
        "  accept1 <- accept2 <- accept3 <- 0\n",
        "\n",
        "  U1 <- runif(n.sims)\n",
        "  U2 <- runif(n.sims)\n",
        "  U3 <- runif(n.sims)\n",
        "\n",
        "  paramB <- paramA\n",
        "\n",
        "  ### Variances of proposals for each parameter\n",
        "  ss_shape_emission <- 1e-5  # Variance for shape of emission (n_states)\n",
        "  ss_scale_emission <- 1e-5   # Variance for scale of emission (n_states)\n",
        "  ss_shape_duration <- 5e-5    # Variance for shape of duration (n_states)\n",
        "  ss_scale_duration <- 1e-5    # Variance for scale of duration (n_states)\n",
        "\n",
        "  # Combine variances for each vector into a single vector\n",
        "  VAR <- c(rep(ss_shape_emission, n_states),      # Shape for emissions\n",
        "           rep(ss_scale_emission, n_states),     # Scale for emissions\n",
        "           rep(ss_shape_duration, n_states),     # Shape for duration\n",
        "           rep(ss_scale_duration, n_states))     # Scale for duration\n",
        "\n",
        "  # Adjust the covariance matrix for the proposal distribution\n",
        "  Sigma <- diag(VAR)\n",
        "\n",
        "  # Generate proposal samples\n",
        "  Q <- mvrnorm(n.sims, rep(0, length(VAR)), Sigma)  # Generate proposals\n",
        "  Z_trans_matrix <- 200\t### For adjusting acceptance rate of P\n",
        "  Z_p.init <- 100\t### For adjusting acceptance rate of p.init\n",
        "\n",
        "  ### MCMC Sampling Process ###\n",
        "  for (i in 1:n.sims) {\n",
        "    if (i %% 100 == 0) {\n",
        "      print(\"Verosimilitud:\")\n",
        "      print(log.likelihoodA)\n",
        "      print(paste(\"Iteration:\", i))\n",
        "      flush.console()\n",
        "    }\n",
        "\n",
        "    paramB <- exp(log(paramA) + Q[i, ])  # Proposed values\n",
        "    flush.console()\n",
        "    ###################################\n",
        "    # Update for emission params#\n",
        "    ###################################\n",
        "\n",
        "    emission_paramsB <- matrix(\n",
        "      c(paramB[1:n_states], paramB[(n_states + 1):(2 * n_states)]),\n",
        "      ncol = 2\n",
        "    )\n",
        "\n",
        "    log.likelihoodB <- loglikelihood(p.init = p.initA,\n",
        "                               m.init = trans_matrix,\n",
        "                               params_dist_emission = emission_paramsB,\n",
        "                               params_dist_sojourn = duration_params,\n",
        "                               n_states = n_states,\n",
        "                               n = n,\n",
        "                               y = Y)\n",
        "\n",
        "    log.postB <- post(log.likelihoodB, emission_paramsB, duration_params, p.initA, trans_matrix)\n",
        "    numer <- log.postB + sum(paramB[1:n_states]) + sum((n_states + 1):(2 * n_states))\n",
        "    denom <- log.postA + sum(paramA[1:n_states]) + sum((n_states + 1):(2 * n_states))\n",
        "    acceptance <- min(1, exp(numer - denom))\n",
        "    #print(\"%%%%%%%%%%%%%%%%%%\")\n",
        "    #print(\"LOG.POSTB EMISSION\")\n",
        "    #print(log.postB)\n",
        "    #print(\"%%%%%%%%%%%%%%%%%%\")\n",
        "    #print(\"%%%%%%%%%%%%%%%%%%\")\n",
        "    #print(\"PARAMS\")\n",
        "    #print(paramB[(n_states + 1):(2 * n_states)])\n",
        "    #print(\"%%%%%%%%%%%%%%%%%%\")\n",
        "    if (log.postB > log.postA || U1[i] <= acceptance) {\n",
        "      emission_params[, 1] <- emission_paramsB[, 1]\n",
        "      paramA[1:n_states] <- paramB[1:n_states]\n",
        "      paramA[(n_states + 1):(2 * n_states)] <- paramB[(n_states + 1):(2 * n_states)]\n",
        "      accept1 <- accept1 + 1\n",
        "      log.likelihoodA <- log.likelihoodB\n",
        "      log.postA <- log.postB\n",
        "    }\n",
        "\n",
        "    #############################\n",
        "    # Update for duration params #\n",
        "    #############################\n",
        "\n",
        "    duration_paramsB <- matrix(\n",
        "      c(paramB[(2 * n_states + 1):(3 * n_states)], paramB[(3 * n_states + 1):(4 * n_states)]),\n",
        "      ncol = 2\n",
        "    )\n",
        "\n",
        "    log.likelihoodB <- loglikelihood(p.init = p.initA,\n",
        "                               m.init = trans_matrix,\n",
        "                               params_dist_emission = emission_params,\n",
        "                               params_dist_sojourn = duration_paramsB,\n",
        "                               n_states = n_states,\n",
        "                               n = n,\n",
        "                               y = Y)\n",
        "\n",
        "    log.postB <- post(log.likelihoodB, emission_params, duration_paramsB, p.initA, trans_matrix)\n",
        "    numer <- log.postB + sum(paramB[(2 * n_states + 1):(3 * n_states)]) + sum(paramB[(3 * n_states + 1):(4 * n_states)])\n",
        "    denom <- log.postA + sum(paramA[(2 * n_states + 1):(3 * n_states)]) + sum(paramA[(3 * n_states + 1):(4 * n_states)])\n",
        "\n",
        "    acceptance <- min(1, exp(numer - denom))\n",
        "    #print(\"%%%%%%%%%%%%%%%%%%\")\n",
        "    #print(\"LOG.POSTB SOJOURN\")\n",
        "    #print(log.postB)\n",
        "    #print(\"%%%%%%%%%%%%%%%%%%\")\n",
        "    if (log.postB > log.postA || U2[i] <= acceptance) {\n",
        "      duration_params[, 1] <- duration_paramsB[, 1]\n",
        "      paramA[(2 * n_states + 1):(3 * n_states)] <- paramB[(2 * n_states + 1):(3 * n_states)]\n",
        "      paramA[(3 * n_states + 1):(4 * n_states)] <- paramB[(3 * n_states + 1):(4 * n_states)]\n",
        "      accept2 <- accept2 + 1\n",
        "      log.likelihoodA <- log.likelihoodB\n",
        "      log.postA <- log.postB\n",
        "    }\n",
        "\n",
        "\n",
        "    #####################\n",
        "    # UPDATE FOR p.init and transition matrix using Dirichlet#\n",
        "    #####################\n",
        "    p.initB <- as.vector(rDirichlet(1, Z_p.init * p.initA))\n",
        "    trans_matrixB <- trans_matrix\n",
        "\n",
        "    for (state in 2:(n_states - 1)) {\n",
        "      # Only update for intermediate states\n",
        "      trans_probs <- rDirichlet(1, c(1, 1))  # Dirichlet for two transitions (to previous and next states)\n",
        "      trans_matrixB[state, state - 1] <- trans_probs[1]\n",
        "      trans_matrixB[state, state + 1] <- trans_probs[2]\n",
        "      trans_matrixB[state, state] <- 0  # No self-transition\n",
        "    }\n",
        "\n",
        "    trans_matrixB[1, 2] <- 1\n",
        "    trans_matrixB[n_states, n_states - 1] <- 1\n",
        "    log.likelihoodB <- loglikelihood(p.init = p.initB,\n",
        "                               m.init = trans_matrixB,\n",
        "                               params_dist_emission = emission_params,\n",
        "                               params_dist_sojourn = duration_params,\n",
        "                               n_states = n_states,\n",
        "                               n = n,\n",
        "                               y = Y)\n",
        "\n",
        "    log.postB <- post(log.likelihoodB, emission_params, duration_params, p.initB, trans_matrixB)\n",
        "    numer <- log.postB\n",
        "    denom <- log.postA\n",
        "\n",
        "    numer <- log.postB  + log(ddirichlet(p.initA, Z_p.init * p.initB))\n",
        "    denom <- log.postA  + log(ddirichlet(p.initB, Z_p.init * p.initA))\n",
        "\n",
        "\n",
        "    for (state in 2:(n_states - 1)) {\n",
        "\n",
        "\n",
        "        current_trans <- trans_matrix[state, c(state - 1, state + 1)]\n",
        "        proposed_trans <- trans_matrixB[state, c(state - 1, state + 1)]\n",
        "\n",
        "\n",
        "        log_prior_current_numer <- log(ddirichlet(current_trans, Z_trans_matrix * proposed_trans))\n",
        "\n",
        "        log_prior_current_denom <- log(ddirichlet(proposed_trans, Z_trans_matrix * current_trans))\n",
        "\n",
        "\n",
        "        numer <- numer + log_prior_current_numer\n",
        "        denom <- denom + log_prior_current_denom\n",
        "    }\n",
        "\n",
        "    acceptance <- min(1, exp(numer - denom))\n",
        "\n",
        "    #print(\"%%%%%%%%%%%%%%%%%%\")\n",
        "    #print(\"LOG.POSTB PROBS\")\n",
        "    #print(log.postB)\n",
        "    #print(\"%%%%%%%%%%%%%%%%%%\")\n",
        "    if (!is.na(acceptance) && (log.postB > log.postA || U3[i] <= acceptance)) {\n",
        "      p.initA <- p.initB\n",
        "      trans_matrix <- trans_matrixB\n",
        "      accept3 <- accept3 + 1\n",
        "      log.likelihoodA <- log.likelihoodB\n",
        "      log.postA <- log.postB\n",
        "    }\n",
        "\n",
        "\n",
        "\n",
        "    ##########################\n",
        "    # Store the sampled values#\n",
        "    ##########################\n",
        "\n",
        "    sims_list[[i]] <- list(\n",
        "    params_emission = emission_paramsB,\n",
        "    params_sojourn = duration_params,\n",
        "    trans_matrix = trans_matrix,\n",
        "    p.init = p.initA,\n",
        "    log.like = log.likelihoodB,\n",
        "    log.pos = log.postB\n",
        "  )\n",
        "\n",
        "  }\n",
        "\n",
        "  print(\"===== Muestreo Finalizado =====\")\n",
        "  print(\"Verosimilitud:\")\n",
        "  print(log.likelihoodA)\n",
        "  return(list(sims_list = sims_list, acceptance_rates = c(accept1, accept2, accept3) / n.sims))\n",
        "}\n"
      ],
      "metadata": {
        "id": "GIrdEvkfcjpX"
      },
      "execution_count": 142,
      "outputs": []
    },
    {
      "cell_type": "markdown",
      "source": [
        "Ahora, hagamos una prueba de ajuste de parametros para los datos simulados:"
      ],
      "metadata": {
        "id": "XHzqThkYdExB"
      }
    },
    {
      "cell_type": "code",
      "source": [
        "%%R\n",
        "distribution_parameters_emission <- matrix(c(42.15187, 2.039293,\n",
        "                                             110.10547, 1.107393,\n",
        "                                             131.68450, 1.239174,\n",
        "                                             151.21247, 1.419063,\n",
        "                                             51.91903, 5.666516),\n",
        "                                           nrow = 5, ncol = 2, byrow = TRUE)\n",
        "\n",
        "distribution_parameters_sojourn <- matrix(c(0.7579934, 33.82615,\n",
        "                                    0.9932942, 11.95013,\n",
        "                                    1.1291341, 10.97301,\n",
        "                                    1.2104759, 12.60661,\n",
        "                                    1.1880755, 32.62419 ), nrow = 5, ncol = 2, byrow = TRUE)\n",
        "\n",
        "\n",
        "p.init <- c(0.15, 0.225, 0.25, 0.225, 0.15)\n",
        "\n",
        "m.init <- matrix(c(\n",
        "  0, 1, 0, 0, 0,\n",
        "  0.467, 0, 0.533, 0, 0,\n",
        "  0, 0.546, 0, 0.454, 0,\n",
        "  0, 0, 0.613, 0, 0.387,\n",
        "  0, 0, 0, 1, 0\n",
        "), nrow = 5, byrow = TRUE)\n",
        "\n",
        "\n",
        "inits <- list(emission_params = distribution_parameters_emission,\n",
        "              duration_params = distribution_parameters_sojourn,\n",
        "              p.init = p.init,\n",
        "              trans_matrix = trans_matrix)\n",
        "\n",
        "results.hsmm <- fit.model(n.sims = 100, burn.in = 5, inits = inits, n_states = 5, observed_dat = data[1:10,]$gl)\n"
      ],
      "metadata": {
        "colab": {
          "base_uri": "https://localhost:8080/"
        },
        "id": "FxAxGUNXdKuL",
        "outputId": "48e860b1-6db3-46c9-9bf9-d02b54c0c6c3"
      },
      "execution_count": null,
      "outputs": [
        {
          "output_type": "stream",
          "name": "stdout",
          "text": [
            "[1] \"===== Iniciando MCMC =====\"\n",
            "[1] \"===== Parámetros inicializados ======\"\n",
            "[1] \"Parámetros de emisión (shape y scale):\"\n",
            "          [,1]     [,2]\n",
            "[1,]  42.15187 2.039293\n",
            "[2,] 110.10547 1.107393\n",
            "[3,] 131.68450 1.239174\n",
            "[4,] 151.21247 1.419063\n",
            "[5,]  51.91903 5.666516\n",
            "[1] \"Parámetros de duración (shape y scale):\"\n",
            "          [,1]     [,2]\n",
            "[1,] 0.7579934 33.82615\n",
            "[2,] 0.9932942 11.95013\n",
            "[3,] 1.1291341 10.97301\n",
            "[4,] 1.2104759 12.60661\n",
            "[5,] 1.1880755 32.62419\n",
            "[1] \"Distribución inicial (p.initA):\"\n",
            "[1] 0.150 0.225 0.250 0.225 0.150\n",
            "[1] \"Matriz de transición:\"\n",
            "      [,1]  [,2]  [,3]  [,4]  [,5]\n",
            "[1,] 0.000 1.000 0.000 0.000 0.000\n",
            "[2,] 0.467 0.000 0.533 0.000 0.000\n",
            "[3,] 0.000 0.546 0.000 0.454 0.000\n",
            "[4,] 0.000 0.000 0.613 0.000 0.387\n",
            "[5,] 0.000 0.000 0.000 1.000 0.000\n",
            "[1] \"Initial Log-likelihood: -41.1137838546447\"\n"
          ]
        },
        {
          "output_type": "stream",
          "name": "stderr",
          "text": [
            "Exception ignored from cffi callback <function _processevents at 0x7f42b053e710>:\n",
            "Traceback (most recent call last):\n",
            "  File \"/usr/local/lib/python3.10/dist-packages/rpy2/rinterface_lib/callbacks.py\", line 278, in _processevents\n",
            "    processevents()\n",
            "  File \"/usr/local/lib/python3.10/dist-packages/rpy2/rinterface_lib/callbacks.py\", line 262, in processevents\n",
            "    def processevents() -> None:\n",
            "KeyboardInterrupt: \n",
            "Exception ignored from cffi callback <function _processevents at 0x7f42b053e710>:\n",
            "Traceback (most recent call last):\n",
            "  File \"/usr/local/lib/python3.10/dist-packages/rpy2/rinterface_lib/callbacks.py\", line 278, in _processevents\n",
            "    processevents()\n",
            "  File \"/usr/local/lib/python3.10/dist-packages/rpy2/rinterface_lib/callbacks.py\", line 262, in processevents\n",
            "    def processevents() -> None:\n",
            "KeyboardInterrupt: \n"
          ]
        }
      ]
    }
  ]
}